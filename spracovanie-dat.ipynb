{
 "cells": [
  {
   "cell_type": "markdown",
   "metadata": {
    "tags": []
   },
   "source": [
    "## Detekcia meteorov z obrázkov kamier AMOS pomocou hlbokého učenia\n",
    "\n",
    "### Príprava pracovného prostredia pre spracovanie dát"
   ]
  },
  {
   "cell_type": "markdown",
   "metadata": {},
   "source": [
    "Import potrebných knižníc."
   ]
  },
  {
   "cell_type": "code",
   "execution_count": 1,
   "metadata": {},
   "outputs": [],
   "source": [
    "import os\n",
    "import csv\n",
    "import pandas as pd\n",
    "import numpy as np\n",
    "import json\n",
    "from PIL import Image, ImageDraw"
   ]
  },
  {
   "cell_type": "markdown",
   "metadata": {
    "tags": []
   },
   "source": [
    "## Spracovanie dát z anotačného projektu\n",
    "### Vytvorenie tabuľky\n",
    "Načítanie dát zo Zooniverse do premennej data.\\\n",
    "csvFile - názov `.csv` súboru, do ktorého sa tabuľka exportuje"
   ]
  },
  {
   "cell_type": "code",
   "execution_count": 2,
   "metadata": {
    "tags": []
   },
   "outputs": [],
   "source": [
    "data=pd.read_csv(\"meteor-v1-classifications.csv\")\n",
    "#data=pd.read_csv(\"meteor-v2-classifications.csv\")\n",
    "#data=pd.read_csv(\"meteor-satellite-classifications.csv\")\n",
    "\n",
    "csvFile=\"zooniverse-v1.csv\"\n",
    "#csvFile=\"zooniverse-v2.csv\"\n",
    "#csvFile=\"zooniverse-sat.csv\""
   ]
  },
  {
   "cell_type": "code",
   "execution_count": 7,
   "metadata": {},
   "outputs": [],
   "source": [
    "with open(csvFile, mode='w', newline='') as csv_file:\n",
    "\n",
    "    columns=[\"filename\", \"class\", \"x\", \"y\", \"width\", \"height\"]\n",
    "    write=csv.DictWriter(csv_file,fieldnames = columns)\n",
    "    write.writeheader()\n",
    "    i=0\n",
    "    \n",
    "    \n",
    "    while (i<len(data)):\n",
    "        \n",
    "        is_meteor=json.loads(data.iloc[i,11])[0][\"value\"]\n",
    "        \n",
    "        if is_meteor == \"Áno\" or is_meteor ==\"Nie\":\n",
    "            metsat = 1\n",
    "        else:\n",
    "            metsat = 0\n",
    "            \n",
    "        if is_meteor == \"Áno\" or metsat == 0:\n",
    "            \n",
    "            anot=json.loads(data.iloc[i,11])[metsat][\"value\"]\n",
    "            count=0\n",
    "            \n",
    "            if anot is not None:\n",
    "                while(count<len(anot)):\n",
    "\n",
    "                    file_name=json.loads(data.iloc[i,12])[str(data.iloc[i,13])][\"Filename\"]\n",
    "                    x=json.loads(data.iloc[i,11])[metsat][\"value\"][count][\"x\"]\n",
    "                    y=json.loads(data.iloc[i,11])[metsat][\"value\"][count][\"y\"]\n",
    "                    width=json.loads(data.iloc[i,11])[metsat][\"value\"][count][\"width\"]\n",
    "                    height=json.loads(data.iloc[i,11])[metsat][\"value\"][count][\"height\"]\n",
    "                    eventClass=json.loads(data.iloc[i,11])[metsat][\"value\"][count][\"tool_label\"]\n",
    "\n",
    "                    write.writerow({'filename': file_name,'class': eventClass.lower(),\n",
    "                                    'x': x,'y':y,'width':width,'height':height})\n",
    "                    count+=1\n",
    "        i+=1"
   ]
  },
  {
   "cell_type": "markdown",
   "metadata": {},
   "source": [
    "### Vykreslenie anotácií\n",
    "rawPath - cesta ku surovým neupraveným obrázkom\\\n",
    "saveDest - názov priečinku, do ktorého sa upravené obrázky uložia. Ak zvolí používateľ rovnaký názov ako cestu ku obrázkom, pôvodné obrázky sa prepíšu\\\n",
    "csvFile - výstup z predošlého kroku"
   ]
  },
  {
   "cell_type": "code",
   "execution_count": 8,
   "metadata": {},
   "outputs": [],
   "source": [
    "rawPath = r\"rawdata\" #path to raw images\n",
    "saveDest = r\"drawn_annotations\" #save destination for the altered images, declare same as rawPath, if you want the raw images to be rewritten\n",
    "\n",
    "csvFile = \"zooniverse-v1.csv\"\n",
    "#csvFile = \"zooniverse-v2.csv\"\n",
    "#csvFile = \"zooniverse-sat.csv\""
   ]
  },
  {
   "cell_type": "code",
   "execution_count": 9,
   "metadata": {},
   "outputs": [],
   "source": [
    "os.makedirs(saveDest, exist_ok=True)\n",
    "data = pd.read_csv(csvFile)\n",
    "#print(data)\n",
    "\n",
    "for row in range(len(data)):\n",
    "        file_name = data.at[row, 'filename']\n",
    "        file_name = \"1\"+file_name\n",
    "        objectClass = data.at[row, 'class']\n",
    "        x = data.at[row, 'x']\n",
    "        y = data.at[row, 'y']\n",
    "        width = data.at[row, 'width']\n",
    "        height = data.at[row, 'height']\n",
    "        \n",
    "        if objectClass == 'meteor':\n",
    "            paint = \"red\"\n",
    "        if objectClass == 'satellite':\n",
    "            paint = \"pink\"\n",
    "        \n",
    "        path = os.path.join(rawPath, str(file_name))\n",
    "        if os.path.exists(path) != True:\n",
    "            continue\n",
    "          \n",
    "        alt_path = os.path.join(saveDest, str(file_name))\n",
    "        if os.path.exists(alt_path) == True:\n",
    "            path = alt_path\n",
    "        \n",
    "        im = Image.open(path)\n",
    "        im1 = ImageDraw.Draw(im)\n",
    "                                               \n",
    "        shape=[(x, y), (x, y+height)]\n",
    "        im1.line(shape, fill=paint, width=2)\n",
    "        shape=[(x, y+height),(x+width,y+height) ]\n",
    "        im1.line(shape, fill=paint, width=2)\n",
    "        shape=[(x, y), (x+width, y)]\n",
    "        im1.line(shape, fill=paint, width=2)\n",
    "        shape=[(x+width, y),(x+width,y+height) ]\n",
    "        im1.line(shape, fill=paint, width=2)\n",
    "        im.save(os.path.join(saveDest, str(file_name)))"
   ]
  },
  {
   "cell_type": "markdown",
   "metadata": {},
   "source": [
    "### Vytvorenie .txt súborov\n",
    "Načítanie dát zo Zooniverse do premennej data"
   ]
  },
  {
   "cell_type": "code",
   "execution_count": 10,
   "metadata": {},
   "outputs": [],
   "source": [
    "data=pd.read_csv(\"meteor-v1-classifications.csv\")\n",
    "#data=pd.read_csv(\"meteor-v2-classifications.csv\")\n",
    "#data=pd.read_csv(\"meteor-satellite-classifications.csv\")"
   ]
  },
  {
   "cell_type": "markdown",
   "metadata": {},
   "source": [
    "Vytvorenie priečinku `labels`, ak už vytvorený je, program využije existujúci priečinok"
   ]
  },
  {
   "cell_type": "code",
   "execution_count": 11,
   "metadata": {},
   "outputs": [],
   "source": [
    "os.makedirs(\"labels\", exist_ok=True)"
   ]
  },
  {
   "cell_type": "markdown",
   "metadata": {},
   "source": [
    "Proces získania anotácie, určenie typu triedy a vytvorenie normalizovaného .txt súboru na intervale od 0 do 1"
   ]
  },
  {
   "cell_type": "code",
   "execution_count": null,
   "metadata": {},
   "outputs": [],
   "source": [
    "textFile=os.getcwd()+\"/labels\"\n",
    "i=0\n",
    "while (i<len(data)):\n",
    "        is_meteor=json.loads(data.iloc[i,11])[0][\"value\"]\n",
    "        \n",
    "        if is_meteor == \"Áno\" or is_meteor ==\"Nie\":\n",
    "            metsat = 1\n",
    "        else:\n",
    "            metsat = 0\n",
    "            \n",
    "        if is_meteor == \"Áno\" or metsat == 0:\n",
    "            \n",
    "            anot=json.loads(data.iloc[i,11])[metsat][\"value\"]\n",
    "            event=json.loads(data.iloc[i,12])[str(data.iloc[i,13])][\"Filename\"].split(\".\")\n",
    "            count=0\n",
    "            \n",
    "            with open(os.path.join(textFile, \"%s.txt\" % (event[0])), mode='w') as csv_file:\n",
    "            \n",
    "                while(count<len(anot)):\n",
    "\n",
    "                    x=json.loads(data.iloc[i,11])[metsat][\"value\"][count][\"x\"]\n",
    "                    y=json.loads(data.iloc[i,11])[metsat][\"value\"][count][\"y\"]\n",
    "                    width=json.loads(data.iloc[i,11])[metsat][\"value\"][count][\"width\"]\n",
    "                    height=json.loads(data.iloc[i,11])[metsat][\"value\"][count][\"height\"]\n",
    "                    event_type=json.loads(data.iloc[i,11])[metsat][\"value\"][count][\"tool_label\"]\n",
    "\n",
    "                    if(event_type == 'Meteor'):\n",
    "                        label=0\n",
    "                    elif (event_type == 'Satellite'):\n",
    "                        label=1\n",
    "\n",
    "                    fieldnames = [label,round((x+(width/2))/1280, 5),round((y+(height/2))/960, 5),round(width/1280, 5),round(height/960,5)]\n",
    "\n",
    "                    writer = csv.DictWriter(csv_file,fieldnames, delimiter=' ')\n",
    "                    writer.writeheader()\n",
    "                    print(\"Just made normalized txt file for %s\" % (event[0]))\n",
    "                    count+=1\n",
    "        i+=1"
   ]
  }
 ],
 "metadata": {
  "kernelspec": {
   "display_name": "Python 3 (ipykernel)",
   "language": "python",
   "name": "python3"
  },
  "language_info": {
   "codemirror_mode": {
    "name": "ipython",
    "version": 3
   },
   "file_extension": ".py",
   "mimetype": "text/x-python",
   "name": "python",
   "nbconvert_exporter": "python",
   "pygments_lexer": "ipython3",
   "version": "3.10.6"
  }
 },
 "nbformat": 4,
 "nbformat_minor": 4
}
