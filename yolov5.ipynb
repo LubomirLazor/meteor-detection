{
 "cells": [
  {
   "cell_type": "markdown",
   "id": "b31c44c6-4592-43e3-a6b9-5d64ff57441e",
   "metadata": {},
   "source": [
    "## Detekcia meteorov z obrázkov kamier AMOS pomocou hlbokého učenia\n",
    "### Príprava pracovného prostredia pre spustenie YOLOv5\n",
    "Naklonovanie github repozitára yolov5 a spustenie inštalácie pre potrebné knižnice"
   ]
  },
  {
   "cell_type": "code",
   "execution_count": null,
   "id": "a0d0840c-29dc-4fbc-8585-27a4999d04e5",
   "metadata": {},
   "outputs": [],
   "source": [
    "!git clone https://github.com/ultralytics/yolov5\n",
    "!pip install opencv-contrib-python\n",
    "!pip install cv2\n",
    "\n",
    "%cd yolov5\n",
    "pip install -r requirements.txt\n",
    "%cd .."
   ]
  },
  {
   "cell_type": "markdown",
   "id": "dc08a5fc-be1d-4cd5-9677-71d356f6b58b",
   "metadata": {},
   "source": [
    "Import všetkých potrebných knižníc"
   ]
  },
  {
   "cell_type": "code",
   "execution_count": null,
   "id": "a71d8ffb-6ea1-47f7-8f59-dc59b81c7275",
   "metadata": {},
   "outputs": [],
   "source": [
    "import PyPDF2\n",
    "import os\n",
    "import tempfile\n",
    "import zipfile,fnmatch\n",
    "import csv\n",
    "import pandas as pd\n",
    "import numpy as np\n",
    "import json\n",
    "import math \n",
    "import cv2\n",
    "import shutil\n",
    "import operator\n",
    "from PIL import Image, ImageDraw"
   ]
  },
  {
   "cell_type": "markdown",
   "id": "e94f8019-781f-434f-b368-eb3cd5d0bc7d",
   "metadata": {
    "tags": []
   },
   "source": [
    "## Vytvorenie jednotlivých množín\n",
    "\n",
    "### Rozdelenie obrázkov na trénovaciu, validačnú a testovaciu množinu\n",
    "\n",
    "Importovanie nástroju pre automatické rozdelenie obrázkov zo súboru `dataloaders.py` (používateľ sa musí nachádzať v priečinku `yolov5`, ktorý obsahuje priečinok `utils`, následne sa vráti späť)"
   ]
  },
  {
   "cell_type": "code",
   "execution_count": null,
   "id": "26800daf-847c-4ba4-ae65-000b65c4deb3",
   "metadata": {},
   "outputs": [],
   "source": [
    "%cd yolov5\n",
    "import torch\n",
    "from utils.dataloaders import *\n",
    "%cd ..\n",
    "\n",
    "autosplit('meteor4000/images', weights=(0.85, 0.1, 0.05))"
   ]
  },
  {
   "cell_type": "markdown",
   "id": "2104d604-b5fd-4c48-bf00-6f0b4fb801de",
   "metadata": {},
   "source": [
    "Rozdelenie obrázkov v datasete na trénovaciu, validačnú a testovaciu množinu v pomere `85:10:5`"
   ]
  },
  {
   "cell_type": "code",
   "execution_count": null,
   "id": "7a2fd349-27b2-45f5-87c8-8cb807618004",
   "metadata": {},
   "outputs": [],
   "source": [
    "autosplit('meteor4000/images', weights=(0.85, 0.1, 0.05))"
   ]
  },
  {
   "cell_type": "markdown",
   "id": "b5c3a486-244f-4095-a8e1-a78a20013067",
   "metadata": {},
   "source": [
    "Po tomto kroku sa v priečinku meteor4000 objavia súbory `autosplit_train.txt`, `autosplit_val.txt` a `autosplit_test.txt`, ktoré si premenujeme na `train.txt`, `val.txt` a `test.txt`"
   ]
  },
  {
   "cell_type": "markdown",
   "id": "277890be-47e4-4bbe-b3c8-54f920ed0c24",
   "metadata": {},
   "source": [
    "## Vytvorenie YAML súboru datasetu\n",
    "\n",
    "#### vnútri .yaml súboru je štruktúra nasledovná:\n",
    "\n",
    "`train: ../meteor4000/train.txt`  - cesta k .txt súboru s trénovacími obrázkami\n",
    "\n",
    "`val: ../meteor4000/val.txt`  - cesta k .txt súboru s validačnými obrázkami\n",
    "\n",
    "`test: ../meteor4000/test.txt` - cesta k .txt súboru s testovacími obrázkami\n",
    "\n",
    "`nc: 2` - počet tried\n",
    "\n",
    "`names: ['meteor', 'satellite']` - názvy tried"
   ]
  },
  {
   "cell_type": "markdown",
   "id": "f81dc664-0189-4cc1-afdf-caf1424c9e55",
   "metadata": {},
   "source": [
    "## Spustenie trénovania modelu\n",
    "\n",
    "Cesty sú relatívne ku priečinku, v ktorom sa práve nachádzame"
   ]
  },
  {
   "cell_type": "code",
   "execution_count": 1,
   "id": "77b073d1-ffc0-4969-8b5d-53939f924fa4",
   "metadata": {},
   "outputs": [],
   "source": [
    "#!python yolov5/train.py --img 1280 --rect --batch 15 --epochs 300 --data meteor4000/meteor4000.yaml --weights yolov5/yolov5s.pt --save-period 10 --patience 20"
   ]
  },
  {
   "cell_type": "markdown",
   "id": "8d025ff2-80b6-462c-ae06-8a350bcc7662",
   "metadata": {
    "tags": []
   },
   "source": [
    "## Spustenie validácie modelu\n",
    "\n",
    "Cesty sú relatíve ku priečinku, v ktorom sa práve nachádzame"
   ]
  },
  {
   "cell_type": "code",
   "execution_count": null,
   "id": "4d4b51ca-02a2-40e7-8b11-c5bff7063dd3",
   "metadata": {},
   "outputs": [],
   "source": [
    "!python yolov5/val.py --weights model/meteor4000.pt --data meteor4000/meteor4000.yaml --img 1280"
   ]
  },
  {
   "cell_type": "markdown",
   "id": "13d0d5ba-ab18-4205-9e48-74cdf0adf18f",
   "metadata": {},
   "source": [
    "## Spustenie detekcie\n",
    "Cesty sú relatíve ku priečinku, v ktorom sa práve nachádzame"
   ]
  },
  {
   "cell_type": "code",
   "execution_count": null,
   "id": "f8dd3079-0eaa-46f0-adf9-8793b58ddd05",
   "metadata": {},
   "outputs": [],
   "source": [
    "!python yolov5/detect.py --weights model/meteor4000.pt --source test --iou 0.45 --conf 0.3 --img 1280 --save-txt --save-conf"
   ]
  },
  {
   "cell_type": "markdown",
   "id": "11e22ea6-e373-4b7c-8763-24cf77563028",
   "metadata": {},
   "source": [
    "## Spracovanie výstupov YOLOv5\n",
    "\n",
    "Vytvorenie tabuľky so všetkými detekciami a jej export do súboru `output.csv`\\\n",
    "directory - cesta ku priečinku s textovými súbormi z detekcie, predvolene v priečinku `yolov5/runs/detect/expXX`"
   ]
  },
  {
   "cell_type": "code",
   "execution_count": null,
   "id": "cdff0898-9210-446a-9cb4-e692c55022ae",
   "metadata": {},
   "outputs": [],
   "source": [
    "directory = r\"exp14/labels\" #folder with .txt labels from detection, default in yolov5/runs/detect/expXX\n",
    "Detections = pd.DataFrame(columns=['file','class','confidence', 'x', 'y', 'width', 'height'])\n",
    "#mCounter = 0 #counter for meteor detections\n",
    "#sCounter = 0 #counter for satellite detections\n",
    "\n",
    "for file_name in os.listdir(directory):\n",
    "        if file_name.endswith(\".txt\"):\n",
    "            file_path = os.path.join(directory, file_name)\n",
    "                                    \n",
    "        with open(file_path, \"r\") as file:\n",
    "            for line in file:\n",
    "                line = file_name[:-3] + \"jpg \" + line\n",
    "                values = line.strip().split()\n",
    "                if len(values) == 7:\n",
    "                    if values[1] == \"0\": \n",
    "                        values[1] = \"meteor\"\n",
    "                        #mCounter+=1\n",
    "                    else: \n",
    "                        values[1] = \"satellite\"\n",
    "                        #sCounter+=1\n",
    "                    values[6] = round(float(values[6]),2)\n",
    "                    detection = pd.DataFrame({\n",
    "                         'file': [values[0]],\n",
    "                         'class': [values[1]],\n",
    "                         'confidence': [values[6]],\n",
    "                         'x': [values[2]],\n",
    "                         'y': [values[3]],\n",
    "                         'width': [values[4]],\n",
    "                         'height': [values[5]]})\n",
    "                    Detections = pd.concat([Detections, detection], ignore_index=True)\n",
    "                \n",
    "#print(\"Detected \" + str(mCounter) + \" meteors and \" + str(sCounter) + \" satellites\")\n",
    "#print(\"\\nDetections:\")\n",
    "#print(Detections)\n",
    "Detections.to_csv(\"output.csv\")"
   ]
  }
 ],
 "metadata": {
  "kernelspec": {
   "display_name": "Python 3 (ipykernel)",
   "language": "python",
   "name": "python3"
  },
  "language_info": {
   "codemirror_mode": {
    "name": "ipython",
    "version": 3
   },
   "file_extension": ".py",
   "mimetype": "text/x-python",
   "name": "python",
   "nbconvert_exporter": "python",
   "pygments_lexer": "ipython3",
   "version": "3.10.6"
  }
 },
 "nbformat": 4,
 "nbformat_minor": 5
}
