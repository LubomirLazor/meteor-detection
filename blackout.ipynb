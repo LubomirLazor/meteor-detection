{
 "cells": [
  {
   "cell_type": "markdown",
   "id": "389eb599-dddb-41cd-9276-3345bcb6c292",
   "metadata": {
    "tags": []
   },
   "source": [
    "## Príprava surových dát na detekciu\n",
    "\n",
    "### Prekrytie statických objektov tmavosivými štvoruholníkmi v lokáciach AGO, ARBO a KNM\n",
    "\n",
    "#### Import potrebných knižníc"
   ]
  },
  {
   "cell_type": "code",
   "execution_count": 6,
   "id": "6bcb88ee-3b8d-4475-b59e-1c141dfd6a0a",
   "metadata": {},
   "outputs": [],
   "source": [
    "import os\n",
    "from PIL import Image, ImageDraw"
   ]
  },
  {
   "cell_type": "markdown",
   "id": "7cfb447f-b2c2-451c-9ec3-4b8c70ab734d",
   "metadata": {},
   "source": [
    "#### Zadanie potrebných premenných:\n",
    "rawPath - cesta ku surovým neupraveným obrázkom\\\n",
    "saveDest - názov priečinku, do ktorého sa upravené obrázky uložia. Ak zvolí používateľ rovnaký názov ako cestu ku obrázkom, pôvodné obrázky sa prepíšu"
   ]
  },
  {
   "cell_type": "code",
   "execution_count": 14,
   "id": "0188e164-0fb9-4c4d-9a3e-36180116692b",
   "metadata": {},
   "outputs": [],
   "source": [
    "rawPath = r'rawdata' #path to raw images\n",
    "saveDest = r'blackout' #save destination for the altered images, declare same as rawPath, if you want the raw images to be rewritten\n",
    "os.makedirs(saveDest, exist_ok=True) #creates a folder with a name declared in saveDest, if it already exists, it uses the existing folder"
   ]
  },
  {
   "cell_type": "markdown",
   "id": "e7cc3101-3020-412e-ad32-e95b3d3453b5",
   "metadata": {},
   "source": [
    "#### Proces prekrytia statických objektov\n",
    "Možné pridať/odstrániť lokácie alebo objekty podľa potreby používateľa.\\\n",
    "Program skopíruje aj obrázky, ktoré úpravu nepotrebujú, pre zjednodušenie procesu detekcie."
   ]
  },
  {
   "cell_type": "code",
   "execution_count": 13,
   "id": "4a99c1dc-960e-4bf6-af67-960dd3a36865",
   "metadata": {},
   "outputs": [],
   "source": [
    "for root, dirs, files in os.walk(rawPath):\n",
    "    for file in files:\n",
    "        name = os.path.splitext(file)[0]\n",
    "        extension = os.path.splitext(file)[1]\n",
    "        if name[-3:] == \"AGO\":\n",
    "            im = Image.open(os.path.join(rawPath, str(file)))\n",
    "            im1 = ImageDraw.Draw(im)\n",
    "            im1.rectangle([(230, 290), (290, 410)], fill=\"#171717\")\n",
    "            im1.rectangle([(110, 300), (240, 370)], fill=\"#171717\")\n",
    "            im.save(os.path.join(saveDest, str(file)))\n",
    "        elif name[-4:] == \"ARBO\":\n",
    "            im = Image.open(os.path.join(rawPath, str(file)))\n",
    "            im1 = ImageDraw.Draw(im)\n",
    "            im1.rectangle([(1100, 540), (1280, 640)], fill=\"#171717\")\n",
    "            im.save(os.path.join(saveDest, str(file)))\n",
    "        elif name[-3:] == \"KNM\":\n",
    "            im = Image.open(os.path.join(rawPath, str(file)))\n",
    "            im1 = ImageDraw.Draw(im)\n",
    "            im1.rectangle([(100, 790), (200, 890)], fill=\"#171717\")\n",
    "            im.save(os.path.join(saveDest, str(file)))\n",
    "        else:\n",
    "            #if image isn't from AGO, ARBO or KNM, it just copies itself to the saveDest folder\n",
    "            im = Image.open(os.path.join(rawPath, str(file)))\n",
    "            im.save(os.path.join(saveDest, str(file)))"
   ]
  }
 ],
 "metadata": {
  "kernelspec": {
   "display_name": "Python 3 (ipykernel)",
   "language": "python",
   "name": "python3"
  },
  "language_info": {
   "codemirror_mode": {
    "name": "ipython",
    "version": 3
   },
   "file_extension": ".py",
   "mimetype": "text/x-python",
   "name": "python",
   "nbconvert_exporter": "python",
   "pygments_lexer": "ipython3",
   "version": "3.10.6"
  }
 },
 "nbformat": 4,
 "nbformat_minor": 5
}
